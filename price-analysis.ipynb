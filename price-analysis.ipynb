{
 "cells": [
  {
   "cell_type": "code",
   "execution_count": null,
   "metadata": {},
   "outputs": [],
   "source": [
    "import plotly"
   ]
  },
  {
   "cell_type": "code",
   "execution_count": 1,
   "metadata": {},
   "outputs": [],
   "source": [
    "import sqlite3\n",
    "import pandas as pd\n",
    "\n",
    "data = sqlite3.connect('database.db')\n",
    "query = data.execute(\"SELECT DISTINCT * FROM apartments\")\n",
    "cols = [column[0] for column in query.description]\n",
    "apartments = pd.DataFrame.from_records(data = query.fetchall(), columns = cols)"
   ]
  },
  {
   "cell_type": "code",
   "execution_count": 4,
   "metadata": {},
   "outputs": [
    {
     "name": "stdout",
     "output_type": "stream",
     "text": [
      "<class 'pandas.core.frame.DataFrame'>\n",
      "RangeIndex: 2658 entries, 0 to 2657\n",
      "Data columns (total 8 columns):\n",
      " #   Column        Non-Null Count  Dtype  \n",
      "---  ------        --------------  -----  \n",
      " 0   title         2658 non-null   object \n",
      " 1   price         2658 non-null   float64\n",
      " 2   location      2658 non-null   object \n",
      " 3   area          2658 non-null   float64\n",
      " 4   level         2657 non-null   object \n",
      " 5   market        2658 non-null   object \n",
      " 6   building      2657 non-null   object \n",
      " 7   num_of_rooms  2598 non-null   object \n",
      "dtypes: float64(2), object(6)\n",
      "memory usage: 166.2+ KB\n"
     ]
    }
   ],
   "source": [
    "apartments.info()"
   ]
  },
  {
   "cell_type": "code",
   "execution_count": 21,
   "metadata": {},
   "outputs": [],
   "source": [
    "apartments.drop(axis=0, index=apartments[apartments['level']=='Nie'].index, inplace=True)\n",
    "apartments.drop(axis=0, index=apartments[apartments['level']=='Tak'].index, inplace=True)"
   ]
  },
  {
   "cell_type": "code",
   "execution_count": 22,
   "metadata": {},
   "outputs": [
    {
     "name": "stdout",
     "output_type": "stream",
     "text": [
      "<class 'pandas.core.frame.DataFrame'>\n",
      "Index: 2599 entries, 0 to 2657\n",
      "Data columns (total 8 columns):\n",
      " #   Column        Non-Null Count  Dtype  \n",
      "---  ------        --------------  -----  \n",
      " 0   title         2599 non-null   object \n",
      " 1   price         2599 non-null   float64\n",
      " 2   location      2599 non-null   object \n",
      " 3   area          2599 non-null   float64\n",
      " 4   level         2598 non-null   object \n",
      " 5   market        2599 non-null   object \n",
      " 6   building      2598 non-null   object \n",
      " 7   num_of_rooms  2598 non-null   object \n",
      "dtypes: float64(2), object(6)\n",
      "memory usage: 182.7+ KB\n"
     ]
    }
   ],
   "source": [
    "apartments.info()"
   ]
  },
  {
   "cell_type": "code",
   "execution_count": 23,
   "metadata": {},
   "outputs": [],
   "source": [
    "apartments.dropna(inplace=True)"
   ]
  },
  {
   "cell_type": "code",
   "execution_count": 24,
   "metadata": {},
   "outputs": [
    {
     "name": "stdout",
     "output_type": "stream",
     "text": [
      "<class 'pandas.core.frame.DataFrame'>\n",
      "Index: 2598 entries, 0 to 2657\n",
      "Data columns (total 8 columns):\n",
      " #   Column        Non-Null Count  Dtype  \n",
      "---  ------        --------------  -----  \n",
      " 0   title         2598 non-null   object \n",
      " 1   price         2598 non-null   float64\n",
      " 2   location      2598 non-null   object \n",
      " 3   area          2598 non-null   float64\n",
      " 4   level         2598 non-null   object \n",
      " 5   market        2598 non-null   object \n",
      " 6   building      2598 non-null   object \n",
      " 7   num_of_rooms  2598 non-null   object \n",
      "dtypes: float64(2), object(6)\n",
      "memory usage: 182.7+ KB\n"
     ]
    }
   ],
   "source": [
    "apartments.info()"
   ]
  },
  {
   "cell_type": "code",
   "execution_count": 25,
   "metadata": {},
   "outputs": [
    {
     "data": {
      "text/plain": [
       "array(['2', '5', '1', '7', '4', 'Powyżej 10', '3', '8', 'Parter', '6',\n",
       "       '9', '10', 'Poddasze', 'Suterena'], dtype=object)"
      ]
     },
     "execution_count": 25,
     "metadata": {},
     "output_type": "execute_result"
    }
   ],
   "source": [
    "apartments['level'].unique()"
   ]
  },
  {
   "cell_type": "code",
   "execution_count": 26,
   "metadata": {},
   "outputs": [
    {
     "data": {
      "text/plain": [
       "array(['Pierwotny', 'Wtórny'], dtype=object)"
      ]
     },
     "execution_count": 26,
     "metadata": {},
     "output_type": "execute_result"
    }
   ],
   "source": [
    "apartments['market'].unique()"
   ]
  },
  {
   "cell_type": "code",
   "execution_count": 28,
   "metadata": {},
   "outputs": [
    {
     "data": {
      "text/plain": [
       "array(['Apartamentowiec', 'Blok', 'Kamienica', 'Pozostałe', 'Loft'],\n",
       "      dtype=object)"
      ]
     },
     "execution_count": 28,
     "metadata": {},
     "output_type": "execute_result"
    }
   ],
   "source": [
    "apartments['building'].unique()"
   ]
  },
  {
   "cell_type": "code",
   "execution_count": 29,
   "metadata": {},
   "outputs": [
    {
     "data": {
      "text/plain": [
       "array(['3 pokoje', '2 pokoje', '1 pokój', '4 i więcej'], dtype=object)"
      ]
     },
     "execution_count": 29,
     "metadata": {},
     "output_type": "execute_result"
    }
   ],
   "source": [
    "apartments['num_of_rooms'].unique()"
   ]
  },
  {
   "cell_type": "code",
   "execution_count": 37,
   "metadata": {},
   "outputs": [],
   "source": [
    "apartments[['city', 'district']] = apartments['location'].str.split(',', expand=True)"
   ]
  },
  {
   "cell_type": "code",
   "execution_count": 43,
   "metadata": {},
   "outputs": [],
   "source": [
    "apartments.drop(labels=['location', 'title'], axis=1, inplace=True)"
   ]
  },
  {
   "cell_type": "code",
   "execution_count": 44,
   "metadata": {},
   "outputs": [
    {
     "data": {
      "text/html": [
       "<div>\n",
       "<style scoped>\n",
       "    .dataframe tbody tr th:only-of-type {\n",
       "        vertical-align: middle;\n",
       "    }\n",
       "\n",
       "    .dataframe tbody tr th {\n",
       "        vertical-align: top;\n",
       "    }\n",
       "\n",
       "    .dataframe thead th {\n",
       "        text-align: right;\n",
       "    }\n",
       "</style>\n",
       "<table border=\"1\" class=\"dataframe\">\n",
       "  <thead>\n",
       "    <tr style=\"text-align: right;\">\n",
       "      <th></th>\n",
       "      <th>price</th>\n",
       "      <th>area</th>\n",
       "      <th>level</th>\n",
       "      <th>market</th>\n",
       "      <th>building</th>\n",
       "      <th>num_of_rooms</th>\n",
       "      <th>city</th>\n",
       "      <th>district</th>\n",
       "    </tr>\n",
       "  </thead>\n",
       "  <tbody>\n",
       "    <tr>\n",
       "      <th>0</th>\n",
       "      <td>670000.0</td>\n",
       "      <td>53.00</td>\n",
       "      <td>2</td>\n",
       "      <td>Pierwotny</td>\n",
       "      <td>Apartamentowiec</td>\n",
       "      <td>3 pokoje</td>\n",
       "      <td>Warszawa</td>\n",
       "      <td>Białołęka</td>\n",
       "    </tr>\n",
       "    <tr>\n",
       "      <th>1</th>\n",
       "      <td>1050000.0</td>\n",
       "      <td>50.00</td>\n",
       "      <td>5</td>\n",
       "      <td>Wtórny</td>\n",
       "      <td>Blok</td>\n",
       "      <td>2 pokoje</td>\n",
       "      <td>Warszawa</td>\n",
       "      <td>Wola</td>\n",
       "    </tr>\n",
       "    <tr>\n",
       "      <th>2</th>\n",
       "      <td>1389000.0</td>\n",
       "      <td>50.20</td>\n",
       "      <td>1</td>\n",
       "      <td>Wtórny</td>\n",
       "      <td>Apartamentowiec</td>\n",
       "      <td>2 pokoje</td>\n",
       "      <td>Warszawa</td>\n",
       "      <td>Ochota</td>\n",
       "    </tr>\n",
       "    <tr>\n",
       "      <th>3</th>\n",
       "      <td>1099000.0</td>\n",
       "      <td>39.50</td>\n",
       "      <td>7</td>\n",
       "      <td>Wtórny</td>\n",
       "      <td>Apartamentowiec</td>\n",
       "      <td>2 pokoje</td>\n",
       "      <td>Warszawa</td>\n",
       "      <td>Ochota</td>\n",
       "    </tr>\n",
       "    <tr>\n",
       "      <th>4</th>\n",
       "      <td>699000.0</td>\n",
       "      <td>38.50</td>\n",
       "      <td>1</td>\n",
       "      <td>Wtórny</td>\n",
       "      <td>Kamienica</td>\n",
       "      <td>2 pokoje</td>\n",
       "      <td>Warszawa</td>\n",
       "      <td>Bielany</td>\n",
       "    </tr>\n",
       "    <tr>\n",
       "      <th>...</th>\n",
       "      <td>...</td>\n",
       "      <td>...</td>\n",
       "      <td>...</td>\n",
       "      <td>...</td>\n",
       "      <td>...</td>\n",
       "      <td>...</td>\n",
       "      <td>...</td>\n",
       "      <td>...</td>\n",
       "    </tr>\n",
       "    <tr>\n",
       "      <th>2653</th>\n",
       "      <td>380000.0</td>\n",
       "      <td>48.20</td>\n",
       "      <td>3</td>\n",
       "      <td>Wtórny</td>\n",
       "      <td>Blok</td>\n",
       "      <td>3 pokoje</td>\n",
       "      <td>Olsztyn</td>\n",
       "      <td>None</td>\n",
       "    </tr>\n",
       "    <tr>\n",
       "      <th>2654</th>\n",
       "      <td>375000.0</td>\n",
       "      <td>47.90</td>\n",
       "      <td>4</td>\n",
       "      <td>Wtórny</td>\n",
       "      <td>Blok</td>\n",
       "      <td>2 pokoje</td>\n",
       "      <td>Olsztyn</td>\n",
       "      <td>None</td>\n",
       "    </tr>\n",
       "    <tr>\n",
       "      <th>2655</th>\n",
       "      <td>566000.0</td>\n",
       "      <td>46.19</td>\n",
       "      <td>4</td>\n",
       "      <td>Wtórny</td>\n",
       "      <td>Blok</td>\n",
       "      <td>3 pokoje</td>\n",
       "      <td>Olsztyn</td>\n",
       "      <td>None</td>\n",
       "    </tr>\n",
       "    <tr>\n",
       "      <th>2656</th>\n",
       "      <td>550000.0</td>\n",
       "      <td>41.54</td>\n",
       "      <td>3</td>\n",
       "      <td>Wtórny</td>\n",
       "      <td>Blok</td>\n",
       "      <td>2 pokoje</td>\n",
       "      <td>Olsztyn</td>\n",
       "      <td>None</td>\n",
       "    </tr>\n",
       "    <tr>\n",
       "      <th>2657</th>\n",
       "      <td>380000.0</td>\n",
       "      <td>48.00</td>\n",
       "      <td>1</td>\n",
       "      <td>Wtórny</td>\n",
       "      <td>Blok</td>\n",
       "      <td>3 pokoje</td>\n",
       "      <td>Olsztyn</td>\n",
       "      <td>None</td>\n",
       "    </tr>\n",
       "  </tbody>\n",
       "</table>\n",
       "<p>2598 rows × 8 columns</p>\n",
       "</div>"
      ],
      "text/plain": [
       "          price   area level     market         building num_of_rooms  \\\n",
       "0      670000.0  53.00     2  Pierwotny  Apartamentowiec     3 pokoje   \n",
       "1     1050000.0  50.00     5     Wtórny             Blok     2 pokoje   \n",
       "2     1389000.0  50.20     1     Wtórny  Apartamentowiec     2 pokoje   \n",
       "3     1099000.0  39.50     7     Wtórny  Apartamentowiec     2 pokoje   \n",
       "4      699000.0  38.50     1     Wtórny        Kamienica     2 pokoje   \n",
       "...         ...    ...   ...        ...              ...          ...   \n",
       "2653   380000.0  48.20     3     Wtórny             Blok     3 pokoje   \n",
       "2654   375000.0  47.90     4     Wtórny             Blok     2 pokoje   \n",
       "2655   566000.0  46.19     4     Wtórny             Blok     3 pokoje   \n",
       "2656   550000.0  41.54     3     Wtórny             Blok     2 pokoje   \n",
       "2657   380000.0  48.00     1     Wtórny             Blok     3 pokoje   \n",
       "\n",
       "          city    district  \n",
       "0     Warszawa   Białołęka  \n",
       "1     Warszawa        Wola  \n",
       "2     Warszawa      Ochota  \n",
       "3     Warszawa      Ochota  \n",
       "4     Warszawa     Bielany  \n",
       "...        ...         ...  \n",
       "2653   Olsztyn        None  \n",
       "2654   Olsztyn        None  \n",
       "2655   Olsztyn        None  \n",
       "2656   Olsztyn        None  \n",
       "2657   Olsztyn        None  \n",
       "\n",
       "[2598 rows x 8 columns]"
      ]
     },
     "execution_count": 44,
     "metadata": {},
     "output_type": "execute_result"
    }
   ],
   "source": [
    "apartments"
   ]
  },
  {
   "cell_type": "code",
   "execution_count": null,
   "metadata": {},
   "outputs": [],
   "source": []
  },
  {
   "cell_type": "code",
   "execution_count": null,
   "metadata": {},
   "outputs": [],
   "source": []
  },
  {
   "cell_type": "code",
   "execution_count": null,
   "metadata": {},
   "outputs": [],
   "source": []
  },
  {
   "cell_type": "code",
   "execution_count": null,
   "metadata": {},
   "outputs": [],
   "source": []
  }
 ],
 "metadata": {
  "kernelspec": {
   "display_name": "scraping",
   "language": "python",
   "name": "python3"
  },
  "language_info": {
   "codemirror_mode": {
    "name": "ipython",
    "version": 3
   },
   "file_extension": ".py",
   "mimetype": "text/x-python",
   "name": "python",
   "nbconvert_exporter": "python",
   "pygments_lexer": "ipython3",
   "version": "3.9.19"
  }
 },
 "nbformat": 4,
 "nbformat_minor": 2
}
